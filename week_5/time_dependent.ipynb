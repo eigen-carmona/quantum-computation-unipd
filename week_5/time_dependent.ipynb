{
 "cells": [
  {
   "cell_type": "code",
   "execution_count": 1,
   "metadata": {},
   "outputs": [],
   "source": [
    "import numpy as np\n",
    "import scipy.linalg\n",
    "from scipy.fft import fft, ifft, fftfreq\n",
    "import matplotlib.pyplot as plt\n",
    "import matplotlib.animation as animation"
   ]
  },
  {
   "cell_type": "code",
   "execution_count": 2,
   "metadata": {},
   "outputs": [],
   "source": [
    "dt = 0.05\n",
    "L = 10\n",
    "N = 256\n",
    "T = 5\n",
    "m = 1"
   ]
  },
  {
   "cell_type": "code",
   "execution_count": 3,
   "metadata": {},
   "outputs": [],
   "source": [
    "dx = 2*L/N\n",
    "dp = np.pi/L\n",
    "x = np.arange(-L+L/N,L,dx)\n",
    "t = np.arange(0,300*dt,dt)\n",
    "t = np.concatenate((t,np.zeros(300)))\n",
    "p = np.concatenate((np.arange(0,N/2),np.arange(-N/2,0)))*dp"
   ]
  },
  {
   "cell_type": "code",
   "execution_count": 4,
   "metadata": {},
   "outputs": [],
   "source": [
    "#### Non matrix version\n",
    "diag = lambda x: -1/dx**2/2*np.repeat(-2,len(x)) + (x)**2/2\n",
    "subdiag = lambda x: -1/dx**2/2*np.repeat(1,len(x)-1)\n",
    "\n",
    "evals, evecs = scipy.linalg.eigh_tridiagonal(diag(x),subdiag(x),select= 'a')"
   ]
  },
  {
   "cell_type": "code",
   "execution_count": 5,
   "metadata": {},
   "outputs": [],
   "source": [
    "V_diag = x**2/2\n",
    "u_V = np.exp(-0.5*dt*V_diag*1j).T\n",
    "T_diag = p**2/2\n",
    "u_T = np.exp(-dt*T_diag*1j).T\n",
    "# We'll propagate the ground state just because\n",
    "psi_0 =  evecs[:,1]\n",
    "psi_ev = np.array([psi_0]).T\n",
    "for i in range(600):\n",
    "    V_diag = (x-t[i]/T)**2/2\n",
    "    u_V = np.exp(-0.5*dt*V_diag*1j).T\n",
    "    psi_0 = u_V*psi_ev[:,i]\n",
    "    psi_0 = fft(psi_0)\n",
    "    psi_0 *= u_T\n",
    "    psi_0 = ifft(psi_0)\n",
    "    psi_0 *= u_V\n",
    "    psi_0 = np.array([psi_0]).T\n",
    "    psi_ev = np.hstack([psi_ev,psi_0])"
   ]
  },
  {
   "cell_type": "code",
   "execution_count": 9,
   "metadata": {},
   "outputs": [
    {
     "ename": "NameError",
     "evalue": "name 'psi_ev' is not defined",
     "output_type": "error",
     "traceback": [
      "\u001b[0;31m---------------------------------------------------------------------------\u001b[0m",
      "\u001b[0;31mNameError\u001b[0m                                 Traceback (most recent call last)",
      "\u001b[0;32m<ipython-input-9-0da8104445c5>\u001b[0m in \u001b[0;36m<module>\u001b[0;34m\u001b[0m\n\u001b[0;32m----> 1\u001b[0;31m \u001b[0mnorm_sq\u001b[0m \u001b[0;34m=\u001b[0m \u001b[0msum\u001b[0m\u001b[0;34m(\u001b[0m\u001b[0mdx\u001b[0m\u001b[0;34m*\u001b[0m\u001b[0mnp\u001b[0m\u001b[0;34m.\u001b[0m\u001b[0mabs\u001b[0m\u001b[0;34m(\u001b[0m\u001b[0mpsi_ev\u001b[0m\u001b[0;34m[\u001b[0m\u001b[0;34m:\u001b[0m\u001b[0;34m,\u001b[0m\u001b[0;36m0\u001b[0m\u001b[0;34m]\u001b[0m\u001b[0;34m)\u001b[0m\u001b[0;34m**\u001b[0m\u001b[0;36m2\u001b[0m\u001b[0;34m)\u001b[0m\u001b[0;34m\u001b[0m\u001b[0;34m\u001b[0m\u001b[0m\n\u001b[0m\u001b[1;32m      2\u001b[0m \u001b[0mfig\u001b[0m\u001b[0;34m,\u001b[0m \u001b[0max\u001b[0m \u001b[0;34m=\u001b[0m \u001b[0mplt\u001b[0m\u001b[0;34m.\u001b[0m\u001b[0msubplots\u001b[0m\u001b[0;34m(\u001b[0m\u001b[0;34m)\u001b[0m\u001b[0;34m\u001b[0m\u001b[0;34m\u001b[0m\u001b[0m\n\u001b[1;32m      3\u001b[0m \u001b[0mline\u001b[0m\u001b[0;34m,\u001b[0m \u001b[0;34m=\u001b[0m \u001b[0max\u001b[0m\u001b[0;34m.\u001b[0m\u001b[0mplot\u001b[0m\u001b[0;34m(\u001b[0m\u001b[0mx\u001b[0m\u001b[0;34m,\u001b[0m \u001b[0mnp\u001b[0m\u001b[0;34m.\u001b[0m\u001b[0mabs\u001b[0m\u001b[0;34m(\u001b[0m\u001b[0mpsi_ev\u001b[0m\u001b[0;34m[\u001b[0m\u001b[0;34m:\u001b[0m\u001b[0;34m,\u001b[0m\u001b[0;36m0\u001b[0m\u001b[0;34m]\u001b[0m\u001b[0;34m)\u001b[0m\u001b[0;34m**\u001b[0m\u001b[0;36m2\u001b[0m\u001b[0;34m/\u001b[0m\u001b[0mnorm_sq\u001b[0m\u001b[0;34m+\u001b[0m\u001b[0mevals\u001b[0m\u001b[0;34m[\u001b[0m\u001b[0;36m7\u001b[0m\u001b[0;34m]\u001b[0m\u001b[0;34m)\u001b[0m\u001b[0;34m\u001b[0m\u001b[0;34m\u001b[0m\u001b[0m\n\u001b[1;32m      4\u001b[0m \u001b[0mline1\u001b[0m\u001b[0;34m,\u001b[0m \u001b[0;34m=\u001b[0m \u001b[0max\u001b[0m\u001b[0;34m.\u001b[0m\u001b[0mplot\u001b[0m\u001b[0;34m(\u001b[0m\u001b[0mx\u001b[0m\u001b[0;34m,\u001b[0m\u001b[0;34m(\u001b[0m\u001b[0mx\u001b[0m\u001b[0;34m-\u001b[0m\u001b[0mt\u001b[0m\u001b[0;34m[\u001b[0m\u001b[0;36m0\u001b[0m\u001b[0;34m]\u001b[0m\u001b[0;34m/\u001b[0m\u001b[0mT\u001b[0m\u001b[0;34m)\u001b[0m\u001b[0;34m**\u001b[0m\u001b[0;36m2\u001b[0m\u001b[0;34m/\u001b[0m\u001b[0;36m2\u001b[0m\u001b[0;34m)\u001b[0m\u001b[0;34m\u001b[0m\u001b[0;34m\u001b[0m\u001b[0m\n\u001b[1;32m      5\u001b[0m \u001b[0mymax\u001b[0m \u001b[0;34m=\u001b[0m \u001b[0;36m1.5\u001b[0m\u001b[0;34m*\u001b[0m\u001b[0mmax\u001b[0m\u001b[0;34m(\u001b[0m\u001b[0mnp\u001b[0m\u001b[0;34m.\u001b[0m\u001b[0mabs\u001b[0m\u001b[0;34m(\u001b[0m\u001b[0mpsi_ev\u001b[0m\u001b[0;34m[\u001b[0m\u001b[0;34m:\u001b[0m\u001b[0;34m,\u001b[0m\u001b[0;36m0\u001b[0m\u001b[0;34m]\u001b[0m\u001b[0;34m)\u001b[0m\u001b[0;34m**\u001b[0m\u001b[0;36m2\u001b[0m\u001b[0;34m/\u001b[0m\u001b[0mnorm_sq\u001b[0m\u001b[0;34m+\u001b[0m\u001b[0mevals\u001b[0m\u001b[0;34m[\u001b[0m\u001b[0;36m7\u001b[0m\u001b[0;34m]\u001b[0m\u001b[0;34m)\u001b[0m\u001b[0;34m\u001b[0m\u001b[0;34m\u001b[0m\u001b[0m\n",
      "\u001b[0;31mNameError\u001b[0m: name 'psi_ev' is not defined"
     ]
    }
   ],
   "source": [
    "norm_sq = sum(dx*np.abs(psi_ev[:,0])**2)\n",
    "fig, ax = plt.subplots()\n",
    "line, = ax.plot(x, np.abs(psi_ev[:,0])**2/norm_sq+evals[7])\n",
    "line1, = ax.plot(x,(x-t[0]/T)**2/2)\n",
    "ymax = 1.5*max(np.abs(psi_ev[:,0])**2/norm_sq+evals[7])\n",
    "ax.set_ylim(ymin = 0, ymax = ymax)\n",
    "\n",
    "def animate(i):\n",
    "    line.set_ydata(np.abs(psi_ev[:,i])**2/norm_sq+evals[7])\n",
    "    line1.set_ydata((x-t[i]/T)**2/2)\n",
    "    return line,line1,\n",
    "\n",
    "ani = animation.FuncAnimation(fig, animate, interval = 20, frames = 600)\n",
    "ani.save(\"test1.gif\")"
   ]
  },
  {
   "cell_type": "code",
   "execution_count": 34,
   "metadata": {},
   "outputs": [],
   "source": [
    "_psi_ev = np.loadtxt('states_ev.dat',dtype=complex,delimiter=',',converters = {-1: lambda s: complex(0)}).T"
   ]
  },
  {
   "cell_type": "code",
   "execution_count": 29,
   "metadata": {},
   "outputs": [
    {
     "data": {
      "text/plain": [
       "25000"
      ]
     },
     "execution_count": 29,
     "metadata": {},
     "output_type": "execute_result"
    }
   ],
   "source": [
    "len(_psi_ev[:,0])"
   ]
  },
  {
   "cell_type": "code",
   "execution_count": 12,
   "metadata": {},
   "outputs": [
    {
     "data": {
      "image/png": "[encoded data removed]",
      "text/plain": [
       "<Figure size 432x288 with 1 Axes>"
      ]
     },
     "metadata": {
      "needs_background": "light"
     },
     "output_type": "display_data"
    }
   ],
   "source": [
    "g = dx*np.array([x]).T*np.abs(_psi_ev)**2\n",
    "plt.plot(g.sum(axis=0))\n",
    "i = 0"
   ]
  },
  {
   "cell_type": "code",
   "execution_count": 25,
   "metadata": {},
   "outputs": [
    {
     "data": {
      "image/png": "[encoded data removed]",
      "text/plain": [
       "<Figure size 432x288 with 1 Axes>"
      ]
     },
     "metadata": {
      "needs_background": "light"
     },
     "output_type": "display_data"
    }
   ],
   "source": [
    "plt.plot(np.abs(_psi_ev[:,i])**2)\n",
    "plt.plot(np.linspace(0,256,256),np.abs(_psi_ev[:,i])**2/sum(dx*np.abs(_psi_ev[:,i])**2))\n",
    "i+=5"
   ]
  },
  {
   "cell_type": "code",
   "execution_count": 11,
   "metadata": {},
   "outputs": [
    {
     "name": "stderr",
     "output_type": "stream",
     "text": [
      "MovieWriter ffmpeg unavailable; using Pillow instead.\n"
     ]
    },
    {
     "data": {
      "image/png": "[encoded data removed]",
      "text/plain": [
       "<Figure size 432x288 with 1 Axes>"
      ]
     },
     "metadata": {
      "needs_background": "light"
     },
     "output_type": "display_data"
    }
   ],
   "source": [
    "x = np.linspace(-10,10,256)\n",
    "#_psi_ev = np.loadtxt('states_ev.dat',dtype=complex,delimiter=',',converters = {-1: lambda s: complex(0)}).T\n",
    "fig, ax = plt.subplots()\n",
    "line, = ax.plot(x, np.abs(_psi_ev[:,0])**2)\n",
    "line1, = ax.plot(x,(x-t[0]/T)**2/2)\n",
    "ymax = 1.5*max(np.abs(_psi_ev[:,0])**2+evals[0])\n",
    "ax.set_ylim(ymin = 0, ymax = ymax)\n",
    "\n",
    "def animate(i):\n",
    "    line.set_ydata(np.abs(_psi_ev[:,i])**2+evals[0])\n",
    "    line1.set_ydata((x-t[i]/T)**2/2)\n",
    "    return (line,line1)\n",
    "\n",
    "ani = animation.FuncAnimation(fig, animate, interval = 50, frames = 300)\n",
    "ani.save(\"test2.gif\")"
   ]
  },
  {
   "cell_type": "code",
   "execution_count": null,
   "metadata": {},
   "outputs": [],
   "source": []
  },
  {
   "cell_type": "code",
   "execution_count": null,
   "metadata": {},
   "outputs": [],
   "source": []
  }
 ],
 "metadata": {
  "interpreter": {
   "hash": "31f2aee4e71d21fbe5cf8b01ff0e069b9275f58929596ceb00d14d90e3e16cd6"
  },
  "kernelspec": {
   "display_name": "Python 3",
   "language": "python",
   "name": "python3"
  },
  "language_info": {
   "codemirror_mode": {
    "name": "ipython",
    "version": 3
   },
   "file_extension": ".py",
   "mimetype": "text/x-python",
   "name": "python",
   "nbconvert_exporter": "python",
   "pygments_lexer": "ipython3",
   "version": "3.8.10"
  }
 },
 "nbformat": 4,
 "nbformat_minor": 2
}
